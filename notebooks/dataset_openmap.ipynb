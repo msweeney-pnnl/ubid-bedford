{
 "cells": [
  {
   "cell_type": "markdown",
   "id": "d31a635b",
   "metadata": {},
   "source": [
    "## 1. Import Required Libraries"
   ]
  },
  {
   "cell_type": "code",
   "execution_count": 46,
   "id": "8c803ba1",
   "metadata": {},
   "outputs": [],
   "source": [
    "# Core data manipulation and analysis\n",
    "from time import sleep\n",
    "import pandas as pd\n",
    "import numpy as np\n",
    "import warnings\n",
    "warnings.filterwarnings('ignore')\n",
    "\n",
    "# Geospatial libraries\n",
    "import geopandas as gpd\n",
    "from shapely.geometry import Point, Polygon\n",
    "\n",
    "import overpy  # For OpenStreetMap data\n",
    "from urllib.parse import urlencode\n",
    "\n",
    "from pathlib import Path\n",
    "\n"
   ]
  },
  {
   "cell_type": "markdown",
   "id": "eb7f4c08",
   "metadata": {},
   "source": [
    "## 2. Load Parcel Data"
   ]
  },
  {
   "cell_type": "code",
   "execution_count": 47,
   "id": "d39530c3",
   "metadata": {},
   "outputs": [],
   "source": [
    "# Define data paths\n",
    "DATA_DIR = Path(\"../datasets\")\n",
    "PARCELS_SHP = DATA_DIR / \"Westchester_County_Parcels\" / \"Westchester_Parcels.shp\"\n",
    "PARCELS_CSV = DATA_DIR / \"Westchester_County_Parcels_3053716610941103405.csv\"\n",
    "\n",
    "# Load the shapefile (preferred for spatial analysis)\n",
    "\n",
    "parcels_gdf = gpd.read_file(PARCELS_SHP)\n"
   ]
  },
  {
   "cell_type": "markdown",
   "id": "65c5e312",
   "metadata": {},
   "source": [
    "### filter for Bedford only"
   ]
  },
  {
   "cell_type": "code",
   "execution_count": 48,
   "id": "f2d3b0cc",
   "metadata": {},
   "outputs": [],
   "source": [
    "parcels_gdf = parcels_gdf.loc[parcels_gdf.MUNI_NAME == 'Bedford']"
   ]
  },
  {
   "cell_type": "code",
   "execution_count": null,
   "id": "fff8c76b",
   "metadata": {},
   "outputs": [],
   "source": [
    "if parcels_gdf.crs != 'EPSG:4326':\n",
    "    parcels_wgs84 = parcels_gdf.to_crs('EPSG:4326')\n",
    "else:\n",
    "    parcels_wgs84 = parcels_gdf.copy()\n",
    "\n",
    "bounds = parcels_wgs84.total_bounds  # [minx, miny, maxx, maxy]\n",
    "# Start with a smaller sample area for testing (optional)\n",
    "# You can modify this to use the full area\n",
    "# bounds = [\n",
    "#     bounds[0], bounds[1],  # SW corner\n",
    "#     bounds[0] + (bounds[2] - bounds[0]) * 0.1,  # Reduced area for testing\n",
    "#     bounds[1] + (bounds[3] - bounds[1]) * 0.1\n",
    "# ]"
   ]
  },
  {
   "cell_type": "code",
   "execution_count": null,
   "id": "f24df7d8",
   "metadata": {},
   "outputs": [],
   "source": [
    "\n",
    "api = overpy.Overpass()\n",
    "\n",
    "# Construct Overpass query for buildings\n",
    "query = f\"\"\"\n",
    "[out:json][timeout:60];\n",
    "(\n",
    "    way[\"building\"]({bounds[1]},{bounds[0]},{bounds[3]},{bounds[2]});\n",
    "    relation[\"building\"]({bounds[1]},{bounds[0]},{bounds[3]},{bounds[2]});\n",
    ");\n",
    "out geom;\n",
    "\"\"\"\n",
    "result = api.query(query)\n",
    "\n",
    "buildings = []"
   ]
  },
  {
   "cell_type": "code",
   "execution_count": null,
   "id": "f38839d6",
   "metadata": {},
   "outputs": [
    {
     "name": "stdout",
     "output_type": "stream",
     "text": [
      "trying to load: 60207229\n",
      "trying to load: 70262091\n"
     ]
    }
   ],
   "source": [
    "\n",
    "found_ids=  [x['osm_id'] for x in buildings]\n",
    "\n",
    "\n",
    "for way in result.ways:\n",
    "\n",
    "    if way.id not in found_ids:\n",
    "        print(f'trying to load: {way.id}')\n",
    "        sleep(0.5)\n",
    "        if len(way.get_nodes(resolve_missing=True)) > 2:  # Valid polygon\n",
    "            coords = [(float(node.lon), float(node.lat)) for node in way.get_nodes(resolve_missing=True)]\n",
    "            if coords[0] != coords[-1]:  # Close polygon if needed\n",
    "                coords.append(coords[0])\n",
    "            \n",
    "            if len(coords) >= 4:  # Valid polygon needs at least 4 points\n",
    "                polygon = Polygon(coords)\n",
    "                buildings.append({\n",
    "                    'geometry': polygon,\n",
    "                    'osm_id': way.id,\n",
    "                    'building_type': way.tags.get('building', 'yes'),\n",
    "                    'source': 'osm'\n",
    "                })\n"
   ]
  },
  {
   "cell_type": "code",
   "execution_count": null,
   "id": "de25af78",
   "metadata": {},
   "outputs": [
    {
     "data": {
      "text/plain": [
       "140"
      ]
     },
     "execution_count": 66,
     "metadata": {},
     "output_type": "execute_result"
    }
   ],
   "source": []
  },
  {
   "cell_type": "code",
   "execution_count": null,
   "id": "fc3ddbd0",
   "metadata": {},
   "outputs": [
    {
     "data": {
      "text/plain": [
       "13"
      ]
     },
     "execution_count": 54,
     "metadata": {},
     "output_type": "execute_result"
    }
   ],
   "source": []
  },
  {
   "cell_type": "code",
   "execution_count": null,
   "id": "6c8e4e85",
   "metadata": {},
   "outputs": [],
   "source": [
    "buildings_gdf = gpd.GeoDataFrame(buildings, crs='EPSG:4326')"
   ]
  },
  {
   "cell_type": "code",
   "execution_count": null,
   "id": "dea8cbfd",
   "metadata": {},
   "outputs": [
    {
     "data": {
      "text/plain": [
       "{'geometry': <POLYGON ((-73.961 40.887, -73.961 40.887, -73.961 40.887, -73.961 40.887, -...>,\n",
       " 'osm_id': 371517665,\n",
       " 'building_type': 'school',\n",
       " 'source': 'osm'}"
      ]
     },
     "execution_count": 38,
     "metadata": {},
     "output_type": "execute_result"
    }
   ],
   "source": []
  },
  {
   "cell_type": "code",
   "execution_count": null,
   "id": "915af395",
   "metadata": {},
   "outputs": [],
   "source": []
  },
  {
   "cell_type": "code",
   "execution_count": null,
   "id": "d5e14e24",
   "metadata": {},
   "outputs": [
    {
     "name": "stdout",
     "output_type": "stream",
     "text": [
      "Building data access functions defined successfully!\n",
      "\n",
      "Converting from EPSG:3857 to WGS84...\n",
      "Conversion complete\n",
      "\n",
      "=== Loading OpenStreetMap Buildings ===\n",
      "Querying OpenStreetMap for buildings...\n",
      "<overpy.Way id=307005597 nodes=[3120469901, 9947748772, 9947748488, 3120469913, 3120469875, 9947748489, 9947748491, 9947748492, 9947748490, 3120469920, 9947748580, 3120469898, 3120469910, 9947748290, 3120469873, 3120469901]>\n",
      "Error retrieving OSM buildings: 'Way' object has no attribute 'nd'\n"
     ]
    }
   ],
   "source": [
    "\n",
    "# Function to get OpenStreetMap buildings\n",
    "\n",
    "    print(\"Querying OpenStreetMap for buildings...\")\n",
    "    \n",
    "    \n",
    "    \n",
    "    # Convert to GeoDataFrame\n",
    "    \n",
    "            \n",
    "\n",
    "print(\"Building data access functions defined successfully!\")\n",
    "# Convert to WGS84 for web mapping if needed\n"
   ]
  },
  {
   "cell_type": "code",
   "execution_count": null,
   "id": "57329153",
   "metadata": {},
   "outputs": [
    {
     "name": "stdout",
     "output_type": "stream",
     "text": [
      "\n",
      "=== Loading OpenStreetMap Buildings ===\n",
      "Querying OpenStreetMap for buildings...\n",
      "Error retrieving OSM buildings: 'Way' object has no attribute 'nd'\n"
     ]
    }
   ],
   "source": []
  },
  {
   "cell_type": "markdown",
   "id": "d8dd9a26",
   "metadata": {},
   "source": [
    "## 4. Data Exploration and Preprocessing"
   ]
  },
  {
   "cell_type": "code",
   "execution_count": null,
   "id": "318f8a6c",
   "metadata": {},
   "outputs": [],
   "source": []
  },
  {
   "cell_type": "code",
   "execution_count": null,
   "id": "dddd4fe8",
   "metadata": {},
   "outputs": [],
   "source": []
  },
  {
   "cell_type": "markdown",
   "id": "7b83ef36",
   "metadata": {},
   "source": [
    "## 5. Spatial Join Operations\n",
    "\n",
    "Perform spatial joins to determine which buildings fall within each parcel boundary."
   ]
  },
  {
   "cell_type": "code",
   "execution_count": null,
   "id": "b6a4ed9f",
   "metadata": {},
   "outputs": [],
   "source": []
  }
 ],
 "metadata": {
  "kernelspec": {
   "display_name": "bedford-ubid",
   "language": "python",
   "name": "python3"
  },
  "language_info": {
   "codemirror_mode": {
    "name": "ipython",
    "version": 3
   },
   "file_extension": ".py",
   "mimetype": "text/x-python",
   "name": "python",
   "nbconvert_exporter": "python",
   "pygments_lexer": "ipython3",
   "version": "3.13.3"
  }
 },
 "nbformat": 4,
 "nbformat_minor": 5
}
