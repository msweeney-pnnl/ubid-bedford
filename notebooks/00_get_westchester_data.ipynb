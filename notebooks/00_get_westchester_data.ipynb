{
 "cells": [
  {
   "cell_type": "code",
   "execution_count": 10,
   "id": "e67e2239",
   "metadata": {},
   "outputs": [],
   "source": [
    "# Core data manipulation and analysis\n",
    "\n",
    "from pymodule.file_ops import read_pickle, write_pickle\n",
    "from pathlib import Path\n",
    "from urllib.parse import urlencode\n",
    "import plotly.graph_objects as go\n",
    "import plotly.express as px\n",
    "from folium import plugins\n",
    "import seaborn as sns\n",
    "import matplotlib.pyplot as plt\n",
    "from shapely.geometry import Point, Polygon\n",
    "import geopandas as gpd\n",
    "import pandas as pd\n",
    "import numpy as np\n",
    "import warnings\n",
    "\n",
    "\n",
    "import os\n",
    "os.chdir(r'C:\\code\\bedford-ubid')"
   ]
  },
  {
   "cell_type": "code",
   "execution_count": 13,
   "id": "91163712",
   "metadata": {},
   "outputs": [],
   "source": [
    "# Define data paths\n",
    "DATA_DIR = Path(\"./datasets\")\n",
    "PARCELS_SHP = DATA_DIR / \"Westchester_County_Parcels\" / \"Westchester_Parcels.shp\"\n",
    "PARCELS_CSV = DATA_DIR / \"Westchester_County_Parcels_3053716610941103405.csv\"\n",
    "\n",
    "parcels_gdf = gpd.read_file(PARCELS_SHP)\n",
    "parcels_gdf = parcels_gdf.loc[parcels_gdf.MUNI_NAME == 'Bedford']\n"
   ]
  },
  {
   "cell_type": "code",
   "execution_count": 14,
   "id": "f45a16bd",
   "metadata": {},
   "outputs": [],
   "source": [
    "len(parcels_gdf)\n",
    "parcels_gdf.to_pickle('./dataprocess/bedford_tax_process.pickle')"
   ]
  }
 ],
 "metadata": {
  "kernelspec": {
   "display_name": "bedford-ubid",
   "language": "python",
   "name": "python3"
  },
  "language_info": {
   "codemirror_mode": {
    "name": "ipython",
    "version": 3
   },
   "file_extension": ".py",
   "mimetype": "text/x-python",
   "name": "python",
   "nbconvert_exporter": "python",
   "pygments_lexer": "ipython3",
   "version": "3.13.3"
  }
 },
 "nbformat": 4,
 "nbformat_minor": 5
}
