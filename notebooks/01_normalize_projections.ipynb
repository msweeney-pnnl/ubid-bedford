{
 "cells": [
  {
   "cell_type": "code",
   "execution_count": null,
   "id": "7d5f7434",
   "metadata": {},
   "outputs": [],
   "source": [
    "import contextily as ctx  # For basemaps\n",
    "from scipy import stats\n",
    "from pathlib import Path\n",
    "import os\n",
    "from urllib.parse import urlencode\n",
    "\n",
    "import plotly.graph_objects as go\n",
    "import plotly.express as px\n",
    "from folium import plugins\n",
    "import folium\n",
    "import seaborn as sns\n",
    "import matplotlib.pyplot as plt\n",
    "from shapely.geometry import Point, Polygon\n",
    "import geopandas as gpd\n",
    "import pandas as pd\n",
    "import numpy as np\n",
    "import warnings\n",
    "\n",
    "import pyproj\n",
    "from pyproj import CRS\n",
    "\n",
    "os.chdir(r'C:\\code\\bedford-ubid')\n",
    "\n",
    "warnings.filterwarnings('ignore')\n",
    "plt.style.use('default')\n",
    "sns.set_palette(\"husl\")"
   ]
  },
  {
   "cell_type": "code",
   "execution_count": null,
   "id": "01a30566",
   "metadata": {},
   "outputs": [
    {
     "data": {
      "text/plain": [
       "1545"
      ]
     },
     "execution_count": 95,
     "metadata": {},
     "output_type": "execute_result"
    }
   ],
   "source": [
    "parceldf = pd.read_pickle('./dataprocess/bedford_tax_process.pickle')\n",
    "buildingdf = pd.read_pickle('./dataprocess/planetary_data.pickle')\n",
    "## TODO change this eventually to full non-cached version.\n",
    "opendf = pd.DataFrame(pd.read_pickle(r'C:\\code\\bedford-ubid\\datasets\\openmap_cache\\openmap_cache.pickle'))\n"
   ]
  },
  {
   "cell_type": "code",
   "execution_count": 96,
   "id": "fd7a0c40",
   "metadata": {},
   "outputs": [
    {
     "data": {
      "text/plain": [
       "'POLYGON ((-74.25526153715828 41.11706909559916, -74.25518939815252 41.11695571945191, -74.25509561306403 41.1169895880365, -74.25516775206978 41.117102964125245, -74.25526153715828 41.11706909559916))'"
      ]
     },
     "execution_count": 96,
     "metadata": {},
     "output_type": "execute_result"
    }
   ],
   "source": [
    "len(parceldf)\n",
    "\n",
    "parceldf\n",
    "\n",
    "\"\"\"\n",
    "\"\"\"\n",
    "\n",
    "parceldf\n",
    "type(opendf.geometry[0])\n",
    "\n",
    "opendf\n",
    "\n",
    "str(parceldf.geometry.iloc[0])\n",
    "\n",
    "str(buildingdf.geometry.iloc[0])"
   ]
  },
  {
   "cell_type": "code",
   "execution_count": 97,
   "id": "32fe5bf4",
   "metadata": {},
   "outputs": [
    {
     "data": {
      "text/plain": [
       "<Geographic 2D CRS: EPSG:4326>\n",
       "Name: WGS 84\n",
       "Axis Info [ellipsoidal]:\n",
       "- Lat[north]: Geodetic latitude (degree)\n",
       "- Lon[east]: Geodetic longitude (degree)\n",
       "Area of Use:\n",
       "- name: World.\n",
       "- bounds: (-180.0, -90.0, 180.0, 90.0)\n",
       "Datum: World Geodetic System 1984 ensemble\n",
       "- Ellipsoid: WGS 84\n",
       "- Prime Meridian: Greenwich"
      ]
     },
     "execution_count": 97,
     "metadata": {},
     "output_type": "execute_result"
    }
   ],
   "source": [
    "# parceldf['crs']\n",
    "\n",
    "buildingdf.crs\n",
    "\n",
    "# parceldf.crs\n",
    "\n",
    "# buildings_reprojected = buildingdf.to_crs(parceldf.crs)"
   ]
  },
  {
   "cell_type": "markdown",
   "id": "ebff314c",
   "metadata": {},
   "source": [
    "Practical reasons:\n",
    "\n",
    "Your parcels dataset is smaller, so it was likely already reprojected to EPSG:3857 for a specific purpose\n",
    "Keeping the parcels in their current CRS avoids unnecessary computation on the smaller dataset\n",
    "If you have other spatial operations planned, they're often more accurate in projected coordinates\n",
    "\n",
    "However, EPSG:3857 has significant limitations:\n",
    "\n",
    "Distance/area distortion: Web Mercator distorts distances and areas, especially away from the equator\n",
    "Not recommended for precise spatial analysis: It's designed for web mapping, not accurate measurements\n",
    "\n",
    "Better Option: Reproject Both to an Appropriate Local CRS"
   ]
  },
  {
   "cell_type": "code",
   "execution_count": 98,
   "id": "94ea6bb8",
   "metadata": {},
   "outputs": [
    {
     "name": "stdout",
     "output_type": "stream",
     "text": [
      "Sample coordinates: -74.25517857511251, 41.11702934179897\n"
     ]
    }
   ],
   "source": [
    "\n",
    "# For more accurate spatial analysis, use a local projected CRS\n",
    "# You can find the best UTM zone or State Plane zone for your area\n",
    "\n",
    "# Example: Find the appropriate UTM zone\n",
    "\n",
    "\n",
    "# Get a sample coordinate to determine the best projection\n",
    "sample_lon = buildingdf.geometry.iloc[0].centroid.x\n",
    "sample_lat = buildingdf.geometry.iloc[0].centroid.y\n",
    "\n",
    "print(f\"Sample coordinates: {sample_lon}, {sample_lat}\")\n",
    "\n",
    "# # For US data, you might want to use:\n",
    "# # - UTM zone (more accurate for local areas)\n",
    "# # - State Plane (if staying within one state)\n",
    "# # - Albers Equal Area (good for larger regions)\n",
    "\n",
    "# # Example: Reproject both to appropriate UTM zone\n",
    "# # You'll need to determine the right UTM zone for your area\n",
    "# target_crs = 'EPSG:32618'  # Example: UTM Zone 18N (adjust for your location)\n",
    "\n",
    "# buildings_proj = buildingdf.to_crs(target_crs)\n",
    "# parcels_proj = parceldf.to_crs(target_crs)\n",
    "\n",
    "\n"
   ]
  },
  {
   "cell_type": "code",
   "execution_count": 99,
   "id": "b5951944",
   "metadata": {},
   "outputs": [
    {
     "name": "stdout",
     "output_type": "stream",
     "text": [
      "Buildings before filtering: 12228\n",
      "Buildings after filtering: 12228\n",
      "Buildings matched to parcels: 9276\n"
     ]
    }
   ],
   "source": [
    "# Reproject both dataframes to NY East State Plane\n",
    "target_crs = 'EPSG:2262'  # NY East in feet (more common for municipal data)\n",
    "# or use 'EPSG:32119' if you prefer meters\n",
    "\n",
    "buildings_proj = buildingdf.to_crs(target_crs)\n",
    "parcels_proj = parceldf.to_crs(target_crs)\n",
    "\n",
    "# Filter buildings to parcels extent\n",
    "parcels_bounds = parcels_proj.total_bounds\n",
    "buildings_proj = buildings_proj.cx[\n",
    "    parcels_bounds[0]:parcels_bounds[2],\n",
    "    parcels_bounds[1]:parcels_bounds[3]\n",
    "]\n",
    "\n",
    "print(f\"Buildings before filtering: {len(buildings_proj)}\")\n",
    "print(f\"Buildings after filtering: {len(buildings_proj)}\")\n",
    "\n",
    "# Spatial join\n",
    "result = gpd.sjoin(\n",
    "    buildings_proj,\n",
    "    parcels_proj,\n",
    "    how='left',\n",
    "    predicate='within'\n",
    ")\n",
    "\n",
    "print(f\"Buildings matched to parcels: {len(result.dropna(subset=['index_right']))}\")"
   ]
  },
  {
   "cell_type": "markdown",
   "id": "f67f574b",
   "metadata": {},
   "source": [
    "result"
   ]
  },
  {
   "cell_type": "code",
   "execution_count": null,
   "id": "0b6de8e1",
   "metadata": {},
   "outputs": [],
   "source": [
    "\n",
    "parcels_proj.to_pickle('./dataprocess/parcels_projected.pickle')\n",
    "buildings_proj.to_pickle('./dataprocess/buildings_projected.pickle')\n"
   ]
  },
  {
   "cell_type": "code",
   "execution_count": null,
   "id": "60e7327b",
   "metadata": {},
   "outputs": [],
   "source": []
  },
  {
   "cell_type": "code",
   "execution_count": null,
   "id": "a268425b",
   "metadata": {},
   "outputs": [],
   "source": []
  }
 ],
 "metadata": {
  "kernelspec": {
   "display_name": "bedford-ubid",
   "language": "python",
   "name": "python3"
  },
  "language_info": {
   "codemirror_mode": {
    "name": "ipython",
    "version": 3
   },
   "file_extension": ".py",
   "mimetype": "text/x-python",
   "name": "python",
   "nbconvert_exporter": "python",
   "pygments_lexer": "ipython3",
   "version": "3.13.3"
  }
 },
 "nbformat": 4,
 "nbformat_minor": 5
}
