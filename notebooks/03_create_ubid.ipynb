{
 "cells": [
  {
   "cell_type": "code",
   "execution_count": null,
   "id": "d65904c1",
   "metadata": {},
   "outputs": [],
   "source": [
    "\n",
    "\n",
    "import os\n",
    "os.chdir(r'C:\\code\\bedford-ubid')\n",
    "\n",
    "import plotly.io as pio\n",
    "import contextily as ctx  # For basemaps\n",
    "from scipy import stats\n",
    "from pathlib import Path\n",
    "\n",
    "from urllib.parse import urlencode\n",
    "\n",
    "import plotly.graph_objects as go\n",
    "import plotly.express as px\n",
    "from folium import plugins\n",
    "import folium\n",
    "import seaborn as sns\n",
    "import matplotlib.pyplot as plt\n",
    "from shapely.geometry import Point, Polygon\n",
    "import geopandas as gpd\n",
    "import pandas as pd\n",
    "import numpy as np\n",
    "import warnings\n",
    "import pyproj\n",
    "from pyproj import CRS\n",
    "import xlwings as xw\n",
    "from pymodule.folium_plots import create_folium_polygon\n",
    "\n",
    "warnings.filterwarnings('ignore')\n",
    "plt.style.use('default')\n",
    "sns.set_palette(\"husl\")\n",
    "\n",
    "\n",
    "# Set the default template to \"plotly_white\"\n",
    "\n",
    "pio.templates.default = \"simple_white\"\n",
    "%load_ext autoreload\n",
    "%autoreload 2"
   ]
  },
  {
   "cell_type": "code",
   "execution_count": null,
   "id": "a7a73af9",
   "metadata": {},
   "outputs": [],
   "source": [
    "# building_parcel_match= pd.read_pickle('./dataprocess/building_parcel_match.pickle')\n",
    "# xlbook = xw.Book('./datasets/Multifamily Building Stock.xlsx')\n",
    "\n",
    "# missing_parcels = pd.read_pickle('./dataprocess/missing_parcels.pickle')\n",
    "\n"
   ]
  },
  {
   "cell_type": "code",
   "execution_count": null,
   "id": "b1d9b7d8",
   "metadata": {},
   "outputs": [
    {
     "data": {
      "text/plain": [
       "122"
      ]
     },
     "execution_count": 31,
     "metadata": {},
     "output_type": "execute_result"
    }
   ],
   "source": [
    "cbl = pd.DataFrame(xlbook.sheets['Sheet1'].used_range.value)\n",
    "cbl.columns = cbl.iloc[0,:]\n",
    "cbl = cbl.iloc[1:,:]\n",
    "cbl\n",
    "\n",
    "missing_parcels = [x for x in cbl['Parcel ID'].unique() if x not in building_parcel_match['PRINT_KEY'].unique()]\n",
    "\n",
    "len(missing_parcels)\n",
    "len(cbl)"
   ]
  },
  {
   "cell_type": "code",
   "execution_count": null,
   "id": "cdbe334c",
   "metadata": {},
   "outputs": [
    {
     "data": {
      "application/vnd.plotly.v1+json": {
       "config": {
        "plotlyServerURL": "https://plot.ly"
       },
       "data": [
        {
         "bingroup": "x",
         "hovertemplate": "variable=0<br>value=%{x}<br>count=%{y}<extra></extra>",
         "legendgroup": "0",
         "marker": {
          "color": "#1F77B4",
          "pattern": {
           "shape": ""
          }
         },
         "name": "0",
         "orientation": "v",
         "showlegend": true,
         "type": "histogram",
         "x": {
          "bdata": "BgUDAwMDAgICAgICAgICAgICAgICAgICAgICAQEBAQEBAQEBAQEBAQEBAQEBAQEBAQEBAQEBAQEBAQEBAQEBAQEBAQEBAQEBAQEBAQEBAQEBAQEBAQEBAQEBAQEBAQEBAQEBAQEBAQEBAQEBAQEBAQEBAQEBAQEBAQ==",
          "dtype": "i1"
         },
         "xaxis": "x",
         "yaxis": "y"
        }
       ],
       "layout": {
        "barmode": "relative",
        "height": 400,
        "legend": {
         "title": {
          "text": "variable"
         },
         "tracegroupgap": 0
        },
        "margin": {
         "t": 60
        },
        "template": {
         "data": {
          "bar": [
           {
            "error_x": {
             "color": "rgb(36,36,36)"
            },
            "error_y": {
             "color": "rgb(36,36,36)"
            },
            "marker": {
             "line": {
              "color": "white",
              "width": 0.5
             },
             "pattern": {
              "fillmode": "overlay",
              "size": 10,
              "solidity": 0.2
             }
            },
            "type": "bar"
           }
          ],
          "barpolar": [
           {
            "marker": {
             "line": {
              "color": "white",
              "width": 0.5
             },
             "pattern": {
              "fillmode": "overlay",
              "size": 10,
              "solidity": 0.2
             }
            },
            "type": "barpolar"
           }
          ],
          "carpet": [
           {
            "aaxis": {
             "endlinecolor": "rgb(36,36,36)",
             "gridcolor": "white",
             "linecolor": "white",
             "minorgridcolor": "white",
             "startlinecolor": "rgb(36,36,36)"
            },
            "baxis": {
             "endlinecolor": "rgb(36,36,36)",
             "gridcolor": "white",
             "linecolor": "white",
             "minorgridcolor": "white",
             "startlinecolor": "rgb(36,36,36)"
            },
            "type": "carpet"
           }
          ],
          "choropleth": [
           {
            "colorbar": {
             "outlinewidth": 1,
             "tickcolor": "rgb(36,36,36)",
             "ticks": "outside"
            },
            "type": "choropleth"
           }
          ],
          "contour": [
           {
            "colorbar": {
             "outlinewidth": 1,
             "tickcolor": "rgb(36,36,36)",
             "ticks": "outside"
            },
            "colorscale": [
             [
              0,
              "#440154"
             ],
             [
              0.1111111111111111,
              "#482878"
             ],
             [
              0.2222222222222222,
              "#3e4989"
             ],
             [
              0.3333333333333333,
              "#31688e"
             ],
             [
              0.4444444444444444,
              "#26828e"
             ],
             [
              0.5555555555555556,
              "#1f9e89"
             ],
             [
              0.6666666666666666,
              "#35b779"
             ],
             [
              0.7777777777777778,
              "#6ece58"
             ],
             [
              0.8888888888888888,
              "#b5de2b"
             ],
             [
              1,
              "#fde725"
             ]
            ],
            "type": "contour"
           }
          ],
          "contourcarpet": [
           {
            "colorbar": {
             "outlinewidth": 1,
             "tickcolor": "rgb(36,36,36)",
             "ticks": "outside"
            },
            "type": "contourcarpet"
           }
          ],
          "heatmap": [
           {
            "colorbar": {
             "outlinewidth": 1,
             "tickcolor": "rgb(36,36,36)",
             "ticks": "outside"
            },
            "colorscale": [
             [
              0,
              "#440154"
             ],
             [
              0.1111111111111111,
              "#482878"
             ],
             [
              0.2222222222222222,
              "#3e4989"
             ],
             [
              0.3333333333333333,
              "#31688e"
             ],
             [
              0.4444444444444444,
              "#26828e"
             ],
             [
              0.5555555555555556,
              "#1f9e89"
             ],
             [
              0.6666666666666666,
              "#35b779"
             ],
             [
              0.7777777777777778,
              "#6ece58"
             ],
             [
              0.8888888888888888,
              "#b5de2b"
             ],
             [
              1,
              "#fde725"
             ]
            ],
            "type": "heatmap"
           }
          ],
          "histogram": [
           {
            "marker": {
             "line": {
              "color": "white",
              "width": 0.6
             }
            },
            "type": "histogram"
           }
          ],
          "histogram2d": [
           {
            "colorbar": {
             "outlinewidth": 1,
             "tickcolor": "rgb(36,36,36)",
             "ticks": "outside"
            },
            "colorscale": [
             [
              0,
              "#440154"
             ],
             [
              0.1111111111111111,
              "#482878"
             ],
             [
              0.2222222222222222,
              "#3e4989"
             ],
             [
              0.3333333333333333,
              "#31688e"
             ],
             [
              0.4444444444444444,
              "#26828e"
             ],
             [
              0.5555555555555556,
              "#1f9e89"
             ],
             [
              0.6666666666666666,
              "#35b779"
             ],
             [
              0.7777777777777778,
              "#6ece58"
             ],
             [
              0.8888888888888888,
              "#b5de2b"
             ],
             [
              1,
              "#fde725"
             ]
            ],
            "type": "histogram2d"
           }
          ],
          "histogram2dcontour": [
           {
            "colorbar": {
             "outlinewidth": 1,
             "tickcolor": "rgb(36,36,36)",
             "ticks": "outside"
            },
            "colorscale": [
             [
              0,
              "#440154"
             ],
             [
              0.1111111111111111,
              "#482878"
             ],
             [
              0.2222222222222222,
              "#3e4989"
             ],
             [
              0.3333333333333333,
              "#31688e"
             ],
             [
              0.4444444444444444,
              "#26828e"
             ],
             [
              0.5555555555555556,
              "#1f9e89"
             ],
             [
              0.6666666666666666,
              "#35b779"
             ],
             [
              0.7777777777777778,
              "#6ece58"
             ],
             [
              0.8888888888888888,
              "#b5de2b"
             ],
             [
              1,
              "#fde725"
             ]
            ],
            "type": "histogram2dcontour"
           }
          ],
          "mesh3d": [
           {
            "colorbar": {
             "outlinewidth": 1,
             "tickcolor": "rgb(36,36,36)",
             "ticks": "outside"
            },
            "type": "mesh3d"
           }
          ],
          "parcoords": [
           {
            "line": {
             "colorbar": {
              "outlinewidth": 1,
              "tickcolor": "rgb(36,36,36)",
              "ticks": "outside"
             }
            },
            "type": "parcoords"
           }
          ],
          "pie": [
           {
            "automargin": true,
            "type": "pie"
           }
          ],
          "scatter": [
           {
            "fillpattern": {
             "fillmode": "overlay",
             "size": 10,
             "solidity": 0.2
            },
            "type": "scatter"
           }
          ],
          "scatter3d": [
           {
            "line": {
             "colorbar": {
              "outlinewidth": 1,
              "tickcolor": "rgb(36,36,36)",
              "ticks": "outside"
             }
            },
            "marker": {
             "colorbar": {
              "outlinewidth": 1,
              "tickcolor": "rgb(36,36,36)",
              "ticks": "outside"
             }
            },
            "type": "scatter3d"
           }
          ],
          "scattercarpet": [
           {
            "marker": {
             "colorbar": {
              "outlinewidth": 1,
              "tickcolor": "rgb(36,36,36)",
              "ticks": "outside"
             }
            },
            "type": "scattercarpet"
           }
          ],
          "scattergeo": [
           {
            "marker": {
             "colorbar": {
              "outlinewidth": 1,
              "tickcolor": "rgb(36,36,36)",
              "ticks": "outside"
             }
            },
            "type": "scattergeo"
           }
          ],
          "scattergl": [
           {
            "marker": {
             "colorbar": {
              "outlinewidth": 1,
              "tickcolor": "rgb(36,36,36)",
              "ticks": "outside"
             }
            },
            "type": "scattergl"
           }
          ],
          "scattermap": [
           {
            "marker": {
             "colorbar": {
              "outlinewidth": 1,
              "tickcolor": "rgb(36,36,36)",
              "ticks": "outside"
             }
            },
            "type": "scattermap"
           }
          ],
          "scattermapbox": [
           {
            "marker": {
             "colorbar": {
              "outlinewidth": 1,
              "tickcolor": "rgb(36,36,36)",
              "ticks": "outside"
             }
            },
            "type": "scattermapbox"
           }
          ],
          "scatterpolar": [
           {
            "marker": {
             "colorbar": {
              "outlinewidth": 1,
              "tickcolor": "rgb(36,36,36)",
              "ticks": "outside"
             }
            },
            "type": "scatterpolar"
           }
          ],
          "scatterpolargl": [
           {
            "marker": {
             "colorbar": {
              "outlinewidth": 1,
              "tickcolor": "rgb(36,36,36)",
              "ticks": "outside"
             }
            },
            "type": "scatterpolargl"
           }
          ],
          "scatterternary": [
           {
            "marker": {
             "colorbar": {
              "outlinewidth": 1,
              "tickcolor": "rgb(36,36,36)",
              "ticks": "outside"
             }
            },
            "type": "scatterternary"
           }
          ],
          "surface": [
           {
            "colorbar": {
             "outlinewidth": 1,
             "tickcolor": "rgb(36,36,36)",
             "ticks": "outside"
            },
            "colorscale": [
             [
              0,
              "#440154"
             ],
             [
              0.1111111111111111,
              "#482878"
             ],
             [
              0.2222222222222222,
              "#3e4989"
             ],
             [
              0.3333333333333333,
              "#31688e"
             ],
             [
              0.4444444444444444,
              "#26828e"
             ],
             [
              0.5555555555555556,
              "#1f9e89"
             ],
             [
              0.6666666666666666,
              "#35b779"
             ],
             [
              0.7777777777777778,
              "#6ece58"
             ],
             [
              0.8888888888888888,
              "#b5de2b"
             ],
             [
              1,
              "#fde725"
             ]
            ],
            "type": "surface"
           }
          ],
          "table": [
           {
            "cells": {
             "fill": {
              "color": "rgb(237,237,237)"
             },
             "line": {
              "color": "white"
             }
            },
            "header": {
             "fill": {
              "color": "rgb(217,217,217)"
             },
             "line": {
              "color": "white"
             }
            },
            "type": "table"
           }
          ]
         },
         "layout": {
          "annotationdefaults": {
           "arrowhead": 0,
           "arrowwidth": 1
          },
          "autotypenumbers": "strict",
          "coloraxis": {
           "colorbar": {
            "outlinewidth": 1,
            "tickcolor": "rgb(36,36,36)",
            "ticks": "outside"
           }
          },
          "colorscale": {
           "diverging": [
            [
             0,
             "rgb(103,0,31)"
            ],
            [
             0.1,
             "rgb(178,24,43)"
            ],
            [
             0.2,
             "rgb(214,96,77)"
            ],
            [
             0.3,
             "rgb(244,165,130)"
            ],
            [
             0.4,
             "rgb(253,219,199)"
            ],
            [
             0.5,
             "rgb(247,247,247)"
            ],
            [
             0.6,
             "rgb(209,229,240)"
            ],
            [
             0.7,
             "rgb(146,197,222)"
            ],
            [
             0.8,
             "rgb(67,147,195)"
            ],
            [
             0.9,
             "rgb(33,102,172)"
            ],
            [
             1,
             "rgb(5,48,97)"
            ]
           ],
           "sequential": [
            [
             0,
             "#440154"
            ],
            [
             0.1111111111111111,
             "#482878"
            ],
            [
             0.2222222222222222,
             "#3e4989"
            ],
            [
             0.3333333333333333,
             "#31688e"
            ],
            [
             0.4444444444444444,
             "#26828e"
            ],
            [
             0.5555555555555556,
             "#1f9e89"
            ],
            [
             0.6666666666666666,
             "#35b779"
            ],
            [
             0.7777777777777778,
             "#6ece58"
            ],
            [
             0.8888888888888888,
             "#b5de2b"
            ],
            [
             1,
             "#fde725"
            ]
           ],
           "sequentialminus": [
            [
             0,
             "#440154"
            ],
            [
             0.1111111111111111,
             "#482878"
            ],
            [
             0.2222222222222222,
             "#3e4989"
            ],
            [
             0.3333333333333333,
             "#31688e"
            ],
            [
             0.4444444444444444,
             "#26828e"
            ],
            [
             0.5555555555555556,
             "#1f9e89"
            ],
            [
             0.6666666666666666,
             "#35b779"
            ],
            [
             0.7777777777777778,
             "#6ece58"
            ],
            [
             0.8888888888888888,
             "#b5de2b"
            ],
            [
             1,
             "#fde725"
            ]
           ]
          },
          "colorway": [
           "#1F77B4",
           "#FF7F0E",
           "#2CA02C",
           "#D62728",
           "#9467BD",
           "#8C564B",
           "#E377C2",
           "#7F7F7F",
           "#BCBD22",
           "#17BECF"
          ],
          "font": {
           "color": "rgb(36,36,36)"
          },
          "geo": {
           "bgcolor": "white",
           "lakecolor": "white",
           "landcolor": "white",
           "showlakes": true,
           "showland": true,
           "subunitcolor": "white"
          },
          "hoverlabel": {
           "align": "left"
          },
          "hovermode": "closest",
          "mapbox": {
           "style": "light"
          },
          "paper_bgcolor": "white",
          "plot_bgcolor": "white",
          "polar": {
           "angularaxis": {
            "gridcolor": "rgb(232,232,232)",
            "linecolor": "rgb(36,36,36)",
            "showgrid": false,
            "showline": true,
            "ticks": "outside"
           },
           "bgcolor": "white",
           "radialaxis": {
            "gridcolor": "rgb(232,232,232)",
            "linecolor": "rgb(36,36,36)",
            "showgrid": false,
            "showline": true,
            "ticks": "outside"
           }
          },
          "scene": {
           "xaxis": {
            "backgroundcolor": "white",
            "gridcolor": "rgb(232,232,232)",
            "gridwidth": 2,
            "linecolor": "rgb(36,36,36)",
            "showbackground": true,
            "showgrid": false,
            "showline": true,
            "ticks": "outside",
            "zeroline": false,
            "zerolinecolor": "rgb(36,36,36)"
           },
           "yaxis": {
            "backgroundcolor": "white",
            "gridcolor": "rgb(232,232,232)",
            "gridwidth": 2,
            "linecolor": "rgb(36,36,36)",
            "showbackground": true,
            "showgrid": false,
            "showline": true,
            "ticks": "outside",
            "zeroline": false,
            "zerolinecolor": "rgb(36,36,36)"
           },
           "zaxis": {
            "backgroundcolor": "white",
            "gridcolor": "rgb(232,232,232)",
            "gridwidth": 2,
            "linecolor": "rgb(36,36,36)",
            "showbackground": true,
            "showgrid": false,
            "showline": true,
            "ticks": "outside",
            "zeroline": false,
            "zerolinecolor": "rgb(36,36,36)"
           }
          },
          "shapedefaults": {
           "fillcolor": "black",
           "line": {
            "width": 0
           },
           "opacity": 0.3
          },
          "ternary": {
           "aaxis": {
            "gridcolor": "rgb(232,232,232)",
            "linecolor": "rgb(36,36,36)",
            "showgrid": false,
            "showline": true,
            "ticks": "outside"
           },
           "baxis": {
            "gridcolor": "rgb(232,232,232)",
            "linecolor": "rgb(36,36,36)",
            "showgrid": false,
            "showline": true,
            "ticks": "outside"
           },
           "bgcolor": "white",
           "caxis": {
            "gridcolor": "rgb(232,232,232)",
            "linecolor": "rgb(36,36,36)",
            "showgrid": false,
            "showline": true,
            "ticks": "outside"
           }
          },
          "title": {
           "x": 0.05
          },
          "xaxis": {
           "automargin": true,
           "gridcolor": "rgb(232,232,232)",
           "linecolor": "rgb(36,36,36)",
           "showgrid": false,
           "showline": true,
           "ticks": "outside",
           "title": {
            "standoff": 15
           },
           "zeroline": false,
           "zerolinecolor": "rgb(36,36,36)"
          },
          "yaxis": {
           "automargin": true,
           "gridcolor": "rgb(232,232,232)",
           "linecolor": "rgb(36,36,36)",
           "showgrid": false,
           "showline": true,
           "ticks": "outside",
           "title": {
            "standoff": 15
           },
           "zeroline": false,
           "zerolinecolor": "rgb(36,36,36)"
          }
         }
        },
        "title": {
         "text": "distribution, buildings per parcel - BEDFORD"
        },
        "width": 600,
        "xaxis": {
         "anchor": "y",
         "domain": [
          0,
          1
         ],
         "title": {
          "text": "value"
         }
        },
        "yaxis": {
         "anchor": "x",
         "domain": [
          0,
          1
         ],
         "title": {
          "text": "count"
         }
        }
       }
      }
     },
     "metadata": {},
     "output_type": "display_data"
    },
    {
     "data": {
      "text/html": [
       "<div>\n",
       "<style scoped>\n",
       "    .dataframe tbody tr th:only-of-type {\n",
       "        vertical-align: middle;\n",
       "    }\n",
       "\n",
       "    .dataframe tbody tr th {\n",
       "        vertical-align: top;\n",
       "    }\n",
       "\n",
       "    .dataframe thead th {\n",
       "        text-align: right;\n",
       "    }\n",
       "</style>\n",
       "<table border=\"1\" class=\"dataframe\">\n",
       "  <thead>\n",
       "    <tr style=\"text-align: right;\">\n",
       "      <th></th>\n",
       "      <th>Parcel ID</th>\n",
       "      <th>Address</th>\n",
       "      <th>Town</th>\n",
       "      <th>Zip Codes</th>\n",
       "      <th># of Units</th>\n",
       "      <th>geometry</th>\n",
       "      <th>meanHeight</th>\n",
       "      <th>RegionName</th>\n",
       "      <th>quadkey</th>\n",
       "      <th>building_idx</th>\n",
       "      <th>...</th>\n",
       "      <th>SWIS_SBL_I</th>\n",
       "      <th>SWIS_PRINT</th>\n",
       "      <th>ROLL_YR</th>\n",
       "      <th>SPATIAL_YR</th>\n",
       "      <th>OWNER_TYPE</th>\n",
       "      <th>NYS_NAME</th>\n",
       "      <th>NYS_NAME_S</th>\n",
       "      <th>DUP_GEO</th>\n",
       "      <th>CALC_ACRES</th>\n",
       "      <th>geometry_parcel</th>\n",
       "    </tr>\n",
       "  </thead>\n",
       "  <tbody>\n",
       "    <tr>\n",
       "      <th>32</th>\n",
       "      <td>49.15-4-31</td>\n",
       "      <td>107-109 Katonah Ave</td>\n",
       "      <td>Katonah</td>\n",
       "      <td>10536.0</td>\n",
       "      <td>2.0</td>\n",
       "      <td>None</td>\n",
       "      <td>NaN</td>\n",
       "      <td>NaN</td>\n",
       "      <td>NaN</td>\n",
       "      <td>NaN</td>\n",
       "      <td>...</td>\n",
       "      <td>NaN</td>\n",
       "      <td>NaN</td>\n",
       "      <td>NaN</td>\n",
       "      <td>NaN</td>\n",
       "      <td>NaN</td>\n",
       "      <td>NaN</td>\n",
       "      <td>NaN</td>\n",
       "      <td>NaN</td>\n",
       "      <td>NaN</td>\n",
       "      <td>None</td>\n",
       "    </tr>\n",
       "  </tbody>\n",
       "</table>\n",
       "<p>1 rows × 85 columns</p>\n",
       "</div>"
      ],
      "text/plain": [
       "     Parcel ID              Address     Town Zip Codes  # of Units geometry  \\\n",
       "32  49.15-4-31  107-109 Katonah Ave  Katonah    10536.0        2.0     None   \n",
       "\n",
       "    meanHeight RegionName  quadkey  building_idx  ... SWIS_SBL_I  SWIS_PRINT  \\\n",
       "32         NaN        NaN      NaN           NaN  ...        NaN         NaN   \n",
       "\n",
       "   ROLL_YR SPATIAL_YR OWNER_TYPE NYS_NAME NYS_NAME_S DUP_GEO CALC_ACRES  \\\n",
       "32     NaN        NaN        NaN      NaN        NaN     NaN        NaN   \n",
       "\n",
       "   geometry_parcel  \n",
       "32            None  \n",
       "\n",
       "[1 rows x 85 columns]"
      ]
     },
     "execution_count": 32,
     "metadata": {},
     "output_type": "execute_result"
    }
   ],
   "source": [
    "cbl_match = building_parcel_match.loc[building_parcel_match['PRINT_KEY'].isin(cbl['Parcel ID'])]\n",
    "\n",
    "cbl_merge = pd.merge(\n",
    "    left=cbl,\n",
    "    right=building_parcel_match,\n",
    "    left_on='Parcel ID',\n",
    "    right_on='PRINT_KEY',\n",
    "    how='left'\n",
    ")\n",
    "\n",
    "buildings_per_parcel = cbl_merge['Parcel ID'].value_counts()\n",
    "\n",
    "fig = px.histogram(buildings_per_parcel.values)\n",
    "\n",
    "fig.update_layout(\n",
    "    title='distribution, buildings per parcel - BEDFORD',\n",
    "    width=600, height=400\n",
    ")\n",
    "fig.show()\n",
    "\n",
    "\n",
    "\n",
    "cbl_merge.loc[cbl_merge['Parcel ID'] == '49.15-4-31']"
   ]
  },
  {
   "cell_type": "markdown",
   "id": "399e32c2",
   "metadata": {},
   "source": [
    "### parcels not found in westchester tax database (may need extra processing)"
   ]
  },
  {
   "cell_type": "code",
   "execution_count": 21,
   "id": "428bb2f1",
   "metadata": {},
   "outputs": [
    {
     "data": {
      "text/html": [
       "<div>\n",
       "<style scoped>\n",
       "    .dataframe tbody tr th:only-of-type {\n",
       "        vertical-align: middle;\n",
       "    }\n",
       "\n",
       "    .dataframe tbody tr th {\n",
       "        vertical-align: top;\n",
       "    }\n",
       "\n",
       "    .dataframe thead th {\n",
       "        text-align: right;\n",
       "    }\n",
       "</style>\n",
       "<table border=\"1\" class=\"dataframe\">\n",
       "  <thead>\n",
       "    <tr style=\"text-align: right;\">\n",
       "      <th></th>\n",
       "      <th>Parcel ID</th>\n",
       "      <th>Address</th>\n",
       "      <th>Town</th>\n",
       "      <th>Zip Codes</th>\n",
       "      <th># of Units</th>\n",
       "    </tr>\n",
       "  </thead>\n",
       "  <tbody>\n",
       "    <tr>\n",
       "      <th>27</th>\n",
       "      <td>49.15-4-31</td>\n",
       "      <td>107-109 Katonah Ave</td>\n",
       "      <td>Katonah</td>\n",
       "      <td>10536.0</td>\n",
       "      <td>2.0</td>\n",
       "    </tr>\n",
       "    <tr>\n",
       "      <th>36</th>\n",
       "      <td>49.10-3-8</td>\n",
       "      <td>80 Greenville Rd</td>\n",
       "      <td>Katonah</td>\n",
       "      <td>10536.0</td>\n",
       "      <td>3.0</td>\n",
       "    </tr>\n",
       "    <tr>\n",
       "      <th>46</th>\n",
       "      <td>49.11-1-17</td>\n",
       "      <td>20 Fisher Ln</td>\n",
       "      <td>Katonah</td>\n",
       "      <td>10536.0</td>\n",
       "      <td>2.0</td>\n",
       "    </tr>\n",
       "    <tr>\n",
       "      <th>56</th>\n",
       "      <td>49.15-4-19</td>\n",
       "      <td>17-19 Parkway</td>\n",
       "      <td>Katonah</td>\n",
       "      <td>10536.0</td>\n",
       "      <td>2.0</td>\n",
       "    </tr>\n",
       "    <tr>\n",
       "      <th>57</th>\n",
       "      <td>60.13-1-30</td>\n",
       "      <td>Haines Rd</td>\n",
       "      <td>Bedford</td>\n",
       "      <td>10506.0</td>\n",
       "      <td>64.0</td>\n",
       "    </tr>\n",
       "    <tr>\n",
       "      <th>58</th>\n",
       "      <td>60.14-3-49</td>\n",
       "      <td>132 Babbitt Rd</td>\n",
       "      <td>Bedford</td>\n",
       "      <td>10507.0</td>\n",
       "      <td>2.0</td>\n",
       "    </tr>\n",
       "    <tr>\n",
       "      <th>64</th>\n",
       "      <td>60.14-4-9</td>\n",
       "      <td>141 Babbitt Rd</td>\n",
       "      <td>Bedford Hills</td>\n",
       "      <td>10507.0</td>\n",
       "      <td>2.0</td>\n",
       "    </tr>\n",
       "    <tr>\n",
       "      <th>73</th>\n",
       "      <td>49.15-4-49</td>\n",
       "      <td>18-24 Valley Rd</td>\n",
       "      <td>Katonah</td>\n",
       "      <td>10536.0</td>\n",
       "      <td>3.0</td>\n",
       "    </tr>\n",
       "    <tr>\n",
       "      <th>75</th>\n",
       "      <td>49.15-4-49</td>\n",
       "      <td>18-24 Valley Rd</td>\n",
       "      <td>Katonah</td>\n",
       "      <td>10536.0</td>\n",
       "      <td>2.0</td>\n",
       "    </tr>\n",
       "    <tr>\n",
       "      <th>103</th>\n",
       "      <td>49.15-4-22</td>\n",
       "      <td>26-32 Parkway</td>\n",
       "      <td>Katonah</td>\n",
       "      <td>10536.0</td>\n",
       "      <td>3 or 4</td>\n",
       "    </tr>\n",
       "    <tr>\n",
       "      <th>106</th>\n",
       "      <td>49.15-4-33</td>\n",
       "      <td>113 Katonah Ave</td>\n",
       "      <td>Katonah</td>\n",
       "      <td>10536.0</td>\n",
       "      <td>5.0</td>\n",
       "    </tr>\n",
       "  </tbody>\n",
       "</table>\n",
       "</div>"
      ],
      "text/plain": [
       "0     Parcel ID              Address           Town Zip Codes  # of Units\n",
       "27   49.15-4-31  107-109 Katonah Ave        Katonah    10536.0        2.0\n",
       "36    49.10-3-8     80 Greenville Rd        Katonah    10536.0        3.0\n",
       "46   49.11-1-17         20 Fisher Ln        Katonah    10536.0        2.0\n",
       "56   49.15-4-19        17-19 Parkway        Katonah    10536.0        2.0\n",
       "57   60.13-1-30            Haines Rd        Bedford    10506.0       64.0\n",
       "58   60.14-3-49       132 Babbitt Rd        Bedford    10507.0        2.0\n",
       "64    60.14-4-9       141 Babbitt Rd  Bedford Hills    10507.0        2.0\n",
       "73   49.15-4-49      18-24 Valley Rd        Katonah    10536.0        3.0\n",
       "75   49.15-4-49      18-24 Valley Rd        Katonah    10536.0        2.0\n",
       "103  49.15-4-22        26-32 Parkway        Katonah    10536.0     3 or 4\n",
       "106  49.15-4-33      113 Katonah Ave        Katonah    10536.0        5.0"
      ]
     },
     "execution_count": 21,
     "metadata": {},
     "output_type": "execute_result"
    }
   ],
   "source": [
    "missing_parcels\n",
    "cbl.loc[cbl['Parcel ID'].isin(missing_parcels)]\n"
   ]
  },
  {
   "cell_type": "markdown",
   "id": "3ab288d8",
   "metadata": {},
   "source": [
    "### set up / reformat"
   ]
  },
  {
   "cell_type": "code",
   "execution_count": null,
   "id": "ee823641",
   "metadata": {},
   "outputs": [],
   "source": [
    "## create duplicate of cbl_merge (one for parcel outline, one for building outline) -- assigning crs requires single 'geometry' column\n",
    "parcel_geo = cbl_merge.copy()\n",
    "parcel_geo['geometry'] = parcel_geo['geometry_parcel']\n",
    "parcel_geo = gpd.GeoDataFrame(parcel_geo.drop('geometry_parcel', axis=1), crs='EPSG:2262')\n",
    "\n",
    "\n",
    "building_geo = cbl_merge.copy().drop('geometry_parcel', axis=1)\n",
    "building_geo = gpd.GeoDataFrame(building_geo, crs='EPSG:2262')\n",
    "\n",
    "\n",
    "parcel_geo = parcel_geo.to_crs('EPSG:4326')\n",
    "building_geo = building_geo.to_crs('EPSG:4326')\n",
    "\n",
    "parcel_geo['label'] = 'parcel'\n",
    "building_geo['label'] = 'building'\n",
    "\n"
   ]
  },
  {
   "cell_type": "code",
   "execution_count": null,
   "id": "a8f13ed4",
   "metadata": {},
   "outputs": [],
   "source": [
    "\n",
    "\"\"\"MAP SETUP\"\"\"\n",
    "center_lat = parcel_geo.geometry.centroid.y.iloc[0]\n",
    "center_lon = parcel_geo.geometry.centroid.x.iloc[0]\n",
    "\n",
    "\n",
    "fmap = folium.Map(location=[center_lat, center_lon], zoom_start=15)\n",
    "\n",
    "meta_fields = ['label', 'PARCEL_ADD', 'MAIL_ADDR', 'PRINT_KEY']\n",
    "meta_aliases = meta_fields\n",
    "\n",
    "\n",
    "\"\"\"CREATE BUILDING POLYGONS\"\"\"\n",
    "building_polygons = folium.GeoJson(\n",
    "    building_geo,\n",
    "    style_function=lambda feature: {\n",
    "        'fillColor': 'blue',\n",
    "        'color': 'blue',\n",
    "        'weight': 2,\n",
    "        'fillOpacity': 0.2,\n",
    "    },\n",
    "    tooltip=folium.GeoJsonTooltip(\n",
    "        fields=meta_fields,\n",
    "        aliases=meta_aliases,\n",
    "        sticky=False,\n",
    "        labels=True\n",
    "    ),\n",
    "    popup=folium.GeoJsonPopup(\n",
    "        fields=meta_fields,\n",
    "        aliases=meta_aliases,\n",
    "        labels=True\n",
    "    ),\n",
    "    highlight_function=lambda x: {\n",
    "        'fillOpacity': 0.8,  # Hover opacity\n",
    "    },\n",
    ")\n",
    "\n",
    "\n",
    "\"\"\"CREATE PARCEL POLYGONS\"\"\"\n",
    "parcel_polygons = folium.GeoJson(\n",
    "    parcel_geo,\n",
    "    style_function=lambda feature: {\n",
    "        'fillColor': 'green',\n",
    "        'color': 'green',\n",
    "        'weight': 3,\n",
    "        'fillOpacity': 0.1,\n",
    "    },\n",
    "    tooltip=folium.GeoJsonTooltip(\n",
    "        fields=meta_fields,\n",
    "        aliases=meta_aliases,\n",
    "        sticky=False,\n",
    "        labels=True\n",
    "    ),\n",
    "    popup=folium.GeoJsonPopup(\n",
    "        fields=meta_fields,\n",
    "        aliases=meta_aliases,\n",
    "        labels=True\n",
    "    ),\n",
    "    highlight_function=lambda x: {\n",
    "        'fillOpacity': 0.8,  # Hover opacity\n",
    "    },\n",
    ")\n",
    "\n",
    "\n",
    "\"\"\"OUTPUT DATA\"\"\"\n",
    "\n",
    "parcel_polygons.add_to(fmap)\n",
    "building_polygons.add_to(fmap)\n",
    "\n",
    "\n",
    "fmap.save('html_out/polygon_map.html')"
   ]
  },
  {
   "cell_type": "code",
   "execution_count": 24,
   "id": "77ce705f",
   "metadata": {},
   "outputs": [],
   "source": [
    "\n",
    "# parcel_coords = parcels_proj.loc[outlier_buildings.index].geometry\n",
    "\n",
    "\n",
    "# gdf_parcel = gpd.GeoDataFrame(parcel_coords, crs='EPSG:2262')\n",
    "# gdf_parcel_web = gdf_parcel.to_crs('EPSG:4326')\n",
    "\n",
    "\n",
    "# \"\"\"ESTABLISH MAP\"\"\"\n",
    "# center_lat = gdf_parcel_web.geometry.centroid.y.iloc[0]\n",
    "# center_lon = gdf_parcel_web.geometry.centroid.x.iloc[0]\n",
    "\n",
    "# m = folium.Map(location=[center_lat, center_lon], zoom_start=15)\n",
    "\n",
    "\n",
    "# \"\"\"BUILDING OUTLINES\"\"\"\n",
    "# buildings_within_outliers = building_parcel_match.loc[building_parcel_match.parcel_idx.isin(outlier_buildings.index)]\n",
    "# building_coordinates = buildings_within_outliers.geometry\n",
    "\n",
    "# gdf_building = gpd.GeoDataFrame(buildings_within_outliers, crs='EPSG:2262')\n",
    "# gdf_building_web = gdf_building.to_crs('EPSG:4326')\n",
    "# # set to string for json processing\n",
    "# gdf_building_web['geometry_parcel'] = gdf_building_web['geometry_parcel'].astype(str)\n",
    "\n",
    "# fields = ['PARCEL_ADD', 'MAIL_ADDR', 'PRINT_KEY']\n",
    "\n",
    "# # for row in gdf_building_web['geometry']:\n",
    "# folium.GeoJson(\n",
    "#     gdf_building_web.__geo_interface__,\n",
    "#     style_function=lambda feature: {\n",
    "#         'fillColor': 'blue',\n",
    "#         'color': 'red',\n",
    "#         'weight': 2,\n",
    "#         'fillOpacity': 0.0,\n",
    "#     },\n",
    "#     tooltip=folium.GeoJsonTooltip(\n",
    "#         fields=fields,\n",
    "#         aliases=fields,\n",
    "#         sticky=False,\n",
    "#         labels=True\n",
    "#     ),\n",
    "#     popup=folium.GeoJsonPopup(\n",
    "#         fields=fields,\n",
    "#         aliases=fields,\n",
    "#         labels=True\n",
    "#     )\n",
    "# ).add_to(m)\n",
    "\n",
    "# m.save('polygon_map.html')"
   ]
  },
  {
   "cell_type": "code",
   "execution_count": null,
   "id": "050956fb",
   "metadata": {},
   "outputs": [],
   "source": []
  }
 ],
 "metadata": {
  "kernelspec": {
   "display_name": "bedford-ubid",
   "language": "python",
   "name": "python3"
  },
  "language_info": {
   "codemirror_mode": {
    "name": "ipython",
    "version": 3
   },
   "file_extension": ".py",
   "mimetype": "text/x-python",
   "name": "python",
   "nbconvert_exporter": "python",
   "pygments_lexer": "ipython3",
   "version": "3.13.3"
  }
 },
 "nbformat": 4,
 "nbformat_minor": 5
}
