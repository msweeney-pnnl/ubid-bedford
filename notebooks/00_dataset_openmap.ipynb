{
 "cells": [
  {
   "cell_type": "code",
   "execution_count": null,
   "id": "8c803ba1",
   "metadata": {},
   "outputs": [],
   "source": [
    "# Core data manipulation and analysis\n",
    "from pathlib import Path\n",
    "import pickle\n",
    "from time import sleep\n",
    "import pandas as pd\n",
    "import numpy as np\n",
    "import warnings\n",
    "warnings.filterwarnings('ignore')\n",
    "\n",
    "# Geospatial libraries\n",
    "import geopandas as gpd\n",
    "from shapely.geometry import Point, Polygon\n",
    "\n",
    "import overpy  # For OpenStreetMap data\n",
    "from urllib.parse import urlencode\n",
    "\n",
    "\n",
    "import os\n",
    "os.chdir(r'C:\\code\\bedford-ubid')\n",
    "\n",
    "from pymodule.file_ops import read_pickle, write_pickle\n",
    "\n"
   ]
  },
  {
   "cell_type": "code",
   "execution_count": null,
   "id": "b5843ae6",
   "metadata": {},
   "outputs": [],
   "source": [
    "\n"
   ]
  },
  {
   "cell_type": "code",
   "execution_count": null,
   "id": "fff8c76b",
   "metadata": {},
   "outputs": [],
   "source": [
    "\n",
    "bounds = [-73.74815136, 41.16565413, -73.59163084, 41.28549615]"
   ]
  },
  {
   "cell_type": "code",
   "execution_count": 4,
   "id": "f24df7d8",
   "metadata": {},
   "outputs": [],
   "source": [
    "\n",
    "api = overpy.Overpass()\n",
    "\n",
    "# Construct Overpass query for buildings\n",
    "query = f\"\"\"\n",
    "[out:json][timeout:60];\n",
    "(\n",
    "    way[\"building\"]({bounds[1]},{bounds[0]},{bounds[3]},{bounds[2]});\n",
    "    relation[\"building\"]({bounds[1]},{bounds[0]},{bounds[3]},{bounds[2]});\n",
    ");\n",
    "out geom;\n",
    "\"\"\"\n",
    "result = api.query(query)\n",
    "\n",
    "\n"
   ]
  },
  {
   "cell_type": "code",
   "execution_count": 5,
   "id": "958378e8",
   "metadata": {},
   "outputs": [],
   "source": [
    "# ids to be loaded\n",
    "ids_to_process = [x.id for x in result.ways]\n",
    "\n",
    "ids_to_process\n",
    "\n",
    "total_id_length = len(ids_to_process)\n"
   ]
  },
  {
   "cell_type": "code",
   "execution_count": 6,
   "id": "d38cedcf",
   "metadata": {},
   "outputs": [],
   "source": [
    "def try_get_record(way: overpy.Way):\n",
    "    if len(way.get_nodes(resolve_missing=True)) > 2:  # Valid polygon\n",
    "        coords = [(float(node.lon), float(node.lat)) for node in way.get_nodes(resolve_missing=True)]\n",
    "        if coords[0] != coords[-1]:  # Close polygon if needed\n",
    "            coords.append(coords[0])\n",
    "\n",
    "        if len(coords) >= 4:  # Valid polygon needs at least 4 points\n",
    "            polygon = Polygon(coords)\n",
    "            return {\n",
    "                'coordinates': coords,\n",
    "                'geometry': polygon,\n",
    "                'osm_id': way.id,\n",
    "                'building_type': way.tags.get('building', 'yes'),\n",
    "                'source': 'osm',\n",
    "                # 'way': way\n",
    "            }\n",
    "        \n",
    "    return None\n"
   ]
  },
  {
   "cell_type": "code",
   "execution_count": null,
   "id": "8076e189",
   "metadata": {},
   "outputs": [],
   "source": []
  },
  {
   "cell_type": "code",
   "execution_count": null,
   "id": "e03f47e5",
   "metadata": {},
   "outputs": [],
   "source": [
    "\n",
    "cached_results_file = './datasets/openmap_cache/openmap_cache.pickle'\n",
    "\n",
    "if not Path(cached_results_file).exists():\n",
    "    # write_pickle([], cached_id_list_file)\n",
    "    write_pickle([], cached_results_file)\n",
    "\n",
    "# cached_id_list = read_pickle(cached_id_list_file)\n",
    "cached_results = read_pickle(cached_results_file)\n",
    "cached_ids_list = [x['osm_id'] for x in cached_results]\n",
    "\n",
    "for w in result.ways:\n",
    "    id = w.id\n",
    "    try:\n",
    "        if id not in cached_ids_list:\n",
    "            sleep(0.1)\n",
    "            record = try_get_record(w)\n",
    "            cached_results.append(record)\n",
    "            write_pickle(cached_results, cached_results_file)\n",
    "            # print(f'wrote id: {id}')\n",
    "    except:\n",
    "        sleep(1)\n",
    "        pass\n"
   ]
  },
  {
   "cell_type": "code",
   "execution_count": null,
   "id": "a7588409",
   "metadata": {},
   "outputs": [
    {
     "data": {
      "text/plain": [
       "{'coordinates': [(-73.6101177, 41.273537),\n",
       "  (-73.6101767, 41.2736358),\n",
       "  (-73.6101794, 41.2736922),\n",
       "  (-73.6101687, 41.2737325),\n",
       "  (-73.6101902, 41.2737991),\n",
       "  (-73.6101258, 41.2738999),\n",
       "  (-73.6101767, 41.2739482),\n",
       "  (-73.6102948, 41.2740248),\n",
       "  (-73.6104423, 41.274049),\n",
       "  (-73.6105227, 41.2741075),\n",
       "  (-73.6106595, 41.2741841),\n",
       "  (-73.6108017, 41.2742587),\n",
       "  (-73.611263, 41.2743454),\n",
       "  (-73.6114213, 41.2742889),\n",
       "  (-73.6115822, 41.2742123),\n",
       "  (-73.6118907, 41.2739785),\n",
       "  (-73.6119604, 41.2738192),\n",
       "  (-73.6120194, 41.2735672),\n",
       "  (-73.6119524, 41.2733657),\n",
       "  (-73.6118129, 41.2731963),\n",
       "  (-73.611711, 41.2730592),\n",
       "  (-73.6114159, 41.2727286),\n",
       "  (-73.6111826, 41.2724666),\n",
       "  (-73.6110297, 41.2723073),\n",
       "  (-73.6108768, 41.2721158),\n",
       "  (-73.6105818, 41.2719062),\n",
       "  (-73.610178, 41.2718996),\n",
       "  (-73.6098373, 41.272077),\n",
       "  (-73.6096308, 41.2722948),\n",
       "  (-73.6092567, 41.2726601),\n",
       "  (-73.609238, 41.2728234),\n",
       "  (-73.6092863, 41.2729665),\n",
       "  (-73.6097717, 41.2732508),\n",
       "  (-73.6099085, 41.2733435),\n",
       "  (-73.6101177, 41.273537)],\n",
       " 'geometry': <POLYGON ((-73.61 41.274, -73.61 41.274, -73.61 41.274, -73.61 41.274, -73.6...>,\n",
       " 'osm_id': 60207229,\n",
       " 'building_type': 'school',\n",
       " 'source': 'osm'}"
      ]
     },
     "execution_count": 23,
     "metadata": {},
     "output_type": "execute_result"
    }
   ],
   "source": [
    "cached_results = read_pickle(cached_results_file)\n",
    "len(cached_results) / len(result.ways)\n",
    "\n",
    "cached_results[0]"
   ]
  },
  {
   "cell_type": "code",
   "execution_count": 10,
   "id": "81f7a40f",
   "metadata": {},
   "outputs": [],
   "source": [
    "\n",
    "# def try_load(blist, result):\n",
    "#     found_ids = [x['osm_id'] for x in blist]\n",
    "#     for way in result.ways:\n",
    "#         if way.id not in found_ids:\n",
    "#             sleep(0.1)\n",
    "#             if len(way.get_nodes(resolve_missing=True)) > 2:  # Valid polygon\n",
    "#                 coords = [(float(node.lon), float(node.lat)) for node in way.get_nodes(resolve_missing=True)]\n",
    "#                 if coords[0] != coords[-1]:  # Close polygon if needed\n",
    "#                     coords.append(coords[0])\n",
    "\n",
    "#                 if len(coords) >= 4:  # Valid polygon needs at least 4 points\n",
    "#                     polygon = Polygon(coords)\n",
    "#                     blist.append({\n",
    "#                         'coordinates': coords,\n",
    "#                         'geometry': polygon,\n",
    "#                         'osm_id': way.id,\n",
    "#                         'building_type': way.tags.get('building', 'yes'),\n",
    "#                         'source': 'osm'\n",
    "#                     })"
   ]
  },
  {
   "cell_type": "code",
   "execution_count": 11,
   "id": "c0b62519",
   "metadata": {},
   "outputs": [],
   "source": [
    "def try_load(blist, result):\n",
    "    found_ids = [x['osm_id'] for x in blist]\n",
    "    for way in result.ways:\n",
    "        if way.id not in found_ids:\n",
    "            sleep(0.1)\n",
    "            if len(way.get_nodes(resolve_missing=True)) > 2:  # Valid polygon\n",
    "                coords = [(float(node.lon), float(node.lat)) for node in way.get_nodes(resolve_missing=True)]\n",
    "                if coords[0] != coords[-1]:  # Close polygon if needed\n",
    "                    coords.append(coords[0])\n",
    "\n",
    "                if len(coords) >= 4:  # Valid polygon needs at least 4 points\n",
    "                    polygon = Polygon(coords)\n",
    "                    blist.append({\n",
    "                        'coordinates': coords,\n",
    "                        'geometry': polygon,\n",
    "                        'osm_id': way.id,\n",
    "                        'building_type': way.tags.get('building', 'yes'),\n",
    "                        'source': 'osm'\n",
    "                    })\n",
    "\n",
    "                    "
   ]
  },
  {
   "cell_type": "code",
   "execution_count": 12,
   "id": "dbce578d",
   "metadata": {},
   "outputs": [],
   "source": [
    "# try_bldg = []\n",
    "# try_load(try_bldg, result)\n",
    "\n"
   ]
  },
  {
   "cell_type": "code",
   "execution_count": 13,
   "id": "c024a44e",
   "metadata": {},
   "outputs": [
    {
     "ename": "NameError",
     "evalue": "name 'total_length' is not defined",
     "output_type": "error",
     "traceback": [
      "\u001b[31m---------------------------------------------------------------------------\u001b[39m",
      "\u001b[31mNameError\u001b[39m                                 Traceback (most recent call last)",
      "\u001b[36mCell\u001b[39m\u001b[36m \u001b[39m\u001b[32mIn[13]\u001b[39m\u001b[32m, line 3\u001b[39m\n\u001b[32m      1\u001b[39m buildings = []\n\u001b[32m      2\u001b[39m current_length = \u001b[32m0\u001b[39m\n\u001b[32m----> \u001b[39m\u001b[32m3\u001b[39m missing_ids_length = \u001b[43mtotal_length\u001b[49m - current_length\n",
      "\u001b[31mNameError\u001b[39m: name 'total_length' is not defined"
     ]
    }
   ],
   "source": [
    "buildings = []\n",
    "current_length = 0\n",
    "missing_ids_length = total_length - current_length"
   ]
  },
  {
   "cell_type": "code",
   "execution_count": null,
   "id": "990124ec",
   "metadata": {},
   "outputs": [
    {
     "ename": "NameError",
     "evalue": "name 'total_length' is not defined",
     "output_type": "error",
     "traceback": [
      "\u001b[31m---------------------------------------------------------------------------\u001b[39m",
      "\u001b[31mNameError\u001b[39m                                 Traceback (most recent call last)",
      "\u001b[36mCell\u001b[39m\u001b[36m \u001b[39m\u001b[32mIn[2]\u001b[39m\u001b[32m, line 1\u001b[39m\n\u001b[32m----> \u001b[39m\u001b[32m1\u001b[39m missing_ids_length = \u001b[43mtotal_length\u001b[49m - current_length\n\u001b[32m      2\u001b[39m \u001b[38;5;28;01mwhile\u001b[39;00m missing_ids_length != \u001b[32m0\u001b[39m:\n\u001b[32m      3\u001b[39m     current_length = \u001b[38;5;28mlen\u001b[39m(buildings)\n",
      "\u001b[31mNameError\u001b[39m: name 'total_length' is not defined"
     ]
    }
   ],
   "source": [
    "\n",
    "while missing_ids_length != 0:\n",
    "    current_length = len(buildings)\n",
    "    missing_ids_length = total_length - current_length\n",
    "    print('trying...')\n",
    "    print(f'{missing_ids_length} missing')\n",
    "    try:\n",
    "        try_load(buildings, result)\n",
    "    except:\n",
    "        pass\n",
    "\n",
    "buildings"
   ]
  },
  {
   "cell_type": "code",
   "execution_count": null,
   "id": "3d4f8306",
   "metadata": {},
   "outputs": [],
   "source": []
  },
  {
   "cell_type": "code",
   "execution_count": null,
   "id": "3db8b9cf",
   "metadata": {},
   "outputs": [
    {
     "ename": "NameError",
     "evalue": "name 'buildings' is not defined",
     "output_type": "error",
     "traceback": [
      "\u001b[31m---------------------------------------------------------------------------\u001b[39m",
      "\u001b[31mNameError\u001b[39m                                 Traceback (most recent call last)",
      "\u001b[36mCell\u001b[39m\u001b[36m \u001b[39m\u001b[32mIn[3]\u001b[39m\u001b[32m, line 1\u001b[39m\n\u001b[32m----> \u001b[39m\u001b[32m1\u001b[39m \u001b[43mbuildings\u001b[49m\n",
      "\u001b[31mNameError\u001b[39m: name 'buildings' is not defined"
     ]
    }
   ],
   "source": [
    "buildings"
   ]
  },
  {
   "cell_type": "code",
   "execution_count": null,
   "id": "f38839d6",
   "metadata": {},
   "outputs": [],
   "source": [
    "\n",
    "# found_ids = [x['osm_id'] for x in buildings]\n",
    "\n",
    "# len_pre = len(buildings)\n",
    "# for way in result.ways:\n",
    "\n",
    "#     if way.id not in found_ids:\n",
    "#         print(f'trying to load: {way.id}')\n",
    "#         sleep(1)\n",
    "#         if len(way.get_nodes(resolve_missing=True)) > 2:  # Valid polygon\n",
    "#             coords = [(float(node.lon), float(node.lat)) for node in way.get_nodes(resolve_missing=True)]\n",
    "#             if coords[0] != coords[-1]:  # Close polygon if needed\n",
    "#                 coords.append(coords[0])\n",
    "            \n",
    "#             if len(coords) >= 4:  # Valid polygon needs at least 4 points\n",
    "#                 polygon = Polygon(coords)\n",
    "#                 buildings.append({\n",
    "#                     'geometry': polygon,\n",
    "#                     'osm_id': way.id,\n",
    "#                     'building_type': way.tags.get('building', 'yes'),\n",
    "#                     'source': 'osm'\n",
    "#                 })\n",
    "    \n",
    "\n",
    "# len_post = len(buildings)\n",
    "# print(f'{len_post - len_pre} added. total length: {len_post}')\n",
    "            \n"
   ]
  },
  {
   "cell_type": "code",
   "execution_count": null,
   "id": "de25af78",
   "metadata": {},
   "outputs": [],
   "source": []
  },
  {
   "cell_type": "code",
   "execution_count": null,
   "id": "fc3ddbd0",
   "metadata": {},
   "outputs": [],
   "source": []
  },
  {
   "cell_type": "code",
   "execution_count": null,
   "id": "6c8e4e85",
   "metadata": {},
   "outputs": [],
   "source": [
    "buildings_gdf = gpd.GeoDataFrame(buildings, crs='EPSG:4326')"
   ]
  },
  {
   "cell_type": "code",
   "execution_count": null,
   "id": "dea8cbfd",
   "metadata": {},
   "outputs": [],
   "source": []
  },
  {
   "cell_type": "code",
   "execution_count": null,
   "id": "915af395",
   "metadata": {},
   "outputs": [],
   "source": []
  },
  {
   "cell_type": "code",
   "execution_count": null,
   "id": "d5e14e24",
   "metadata": {},
   "outputs": [
    {
     "ename": "IndentationError",
     "evalue": "unexpected indent (260018951.py, line 3)",
     "output_type": "error",
     "traceback": [
      "  \u001b[36mCell\u001b[39m\u001b[36m \u001b[39m\u001b[32mIn[11]\u001b[39m\u001b[32m, line 3\u001b[39m\n\u001b[31m    \u001b[39m\u001b[31mprint(\"Querying OpenStreetMap for buildings...\")\u001b[39m\n    ^\n\u001b[31mIndentationError\u001b[39m\u001b[31m:\u001b[39m unexpected indent\n"
     ]
    }
   ],
   "source": [
    "\n",
    "# Function to get OpenStreetMap buildings\n",
    "\n",
    "    print(\"Querying OpenStreetMap for buildings...\")\n",
    "    \n",
    "    \n",
    "    \n",
    "    # Convert to GeoDataFrame\n",
    "    \n",
    "            \n",
    "\n",
    "print(\"Building data access functions defined successfully!\")\n",
    "# Convert to WGS84 for web mapping if needed\n"
   ]
  },
  {
   "cell_type": "code",
   "execution_count": null,
   "id": "57329153",
   "metadata": {},
   "outputs": [
    {
     "name": "stdout",
     "output_type": "stream",
     "text": [
      "\n",
      "=== Loading OpenStreetMap Buildings ===\n",
      "Querying OpenStreetMap for buildings...\n",
      "Error retrieving OSM buildings: 'Way' object has no attribute 'nd'\n"
     ]
    }
   ],
   "source": []
  },
  {
   "cell_type": "markdown",
   "id": "d8dd9a26",
   "metadata": {},
   "source": [
    "## 4. Data Exploration and Preprocessing"
   ]
  },
  {
   "cell_type": "code",
   "execution_count": null,
   "id": "318f8a6c",
   "metadata": {},
   "outputs": [],
   "source": []
  },
  {
   "cell_type": "code",
   "execution_count": null,
   "id": "dddd4fe8",
   "metadata": {},
   "outputs": [],
   "source": []
  },
  {
   "cell_type": "markdown",
   "id": "7b83ef36",
   "metadata": {},
   "source": [
    "## 5. Spatial Join Operations\n",
    "\n",
    "Perform spatial joins to determine which buildings fall within each parcel boundary."
   ]
  },
  {
   "cell_type": "code",
   "execution_count": null,
   "id": "b6a4ed9f",
   "metadata": {},
   "outputs": [],
   "source": []
  }
 ],
 "metadata": {
  "kernelspec": {
   "display_name": "bedford-ubid",
   "language": "python",
   "name": "python3"
  },
  "language_info": {
   "codemirror_mode": {
    "name": "ipython",
    "version": 3
   },
   "file_extension": ".py",
   "mimetype": "text/x-python",
   "name": "python",
   "nbconvert_exporter": "python",
   "pygments_lexer": "ipython3",
   "version": "3.13.3"
  }
 },
 "nbformat": 4,
 "nbformat_minor": 5
}
