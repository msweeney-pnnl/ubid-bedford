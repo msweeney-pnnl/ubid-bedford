{
 "cells": [
  {
   "cell_type": "code",
   "execution_count": null,
   "id": "6fbb8a3f",
   "metadata": {},
   "outputs": [],
   "source": []
  },
  {
   "cell_type": "code",
   "execution_count": 5,
   "id": "81a7a305",
   "metadata": {},
   "outputs": [],
   "source": [
    "import planetary_computer\n",
    "import pystac_client\n",
    "import deltalake\n",
    "import shapely.geometry\n",
    "import contextily\n",
    "import mercantile"
   ]
  },
  {
   "cell_type": "code",
   "execution_count": 12,
   "id": "522750dc",
   "metadata": {},
   "outputs": [
    {
     "ename": "TableNotFoundError",
     "evalue": "no log files",
     "output_type": "error",
     "traceback": [
      "\u001b[31m---------------------------------------------------------------------------\u001b[39m",
      "\u001b[31mTableNotFoundError\u001b[39m                        Traceback (most recent call last)",
      "\u001b[36mCell\u001b[39m\u001b[36m \u001b[39m\u001b[32mIn[12]\u001b[39m\u001b[32m, line 12\u001b[39m\n\u001b[32m      6\u001b[39m asset = collection.assets[\u001b[33m\"\u001b[39m\u001b[33mdelta\u001b[39m\u001b[33m\"\u001b[39m]\n\u001b[32m      8\u001b[39m storage_options = {\n\u001b[32m      9\u001b[39m     \u001b[33m\"\u001b[39m\u001b[33maccount_name\u001b[39m\u001b[33m\"\u001b[39m: asset.extra_fields[\u001b[33m\"\u001b[39m\u001b[33mtable:storage_options\u001b[39m\u001b[33m\"\u001b[39m][\u001b[33m\"\u001b[39m\u001b[33maccount_name\u001b[39m\u001b[33m\"\u001b[39m],\n\u001b[32m     10\u001b[39m     \u001b[33m\"\u001b[39m\u001b[33msas_token\u001b[39m\u001b[33m\"\u001b[39m: asset.extra_fields[\u001b[33m\"\u001b[39m\u001b[33mtable:storage_options\u001b[39m\u001b[33m\"\u001b[39m][\u001b[33m\"\u001b[39m\u001b[33mcredential\u001b[39m\u001b[33m\"\u001b[39m],\n\u001b[32m     11\u001b[39m }\n\u001b[32m---> \u001b[39m\u001b[32m12\u001b[39m table = \u001b[43mdeltalake\u001b[49m\u001b[43m.\u001b[49m\u001b[43mDeltaTable\u001b[49m\u001b[43m(\u001b[49m\u001b[43masset\u001b[49m\u001b[43m.\u001b[49m\u001b[43mhref\u001b[49m\u001b[43m,\u001b[49m\u001b[43m \u001b[49m\u001b[43mstorage_options\u001b[49m\u001b[43m=\u001b[49m\u001b[43mstorage_options\u001b[49m\u001b[43m)\u001b[49m\n",
      "\u001b[36mFile \u001b[39m\u001b[32mc:\\code\\bedford-ubid\\.venv\\Lib\\site-packages\\deltalake\\table.py:166\u001b[39m, in \u001b[36mDeltaTable.__init__\u001b[39m\u001b[34m(self, table_uri, version, storage_options, without_files, log_buffer_size)\u001b[39m\n\u001b[32m    146\u001b[39m \u001b[38;5;250m\u001b[39m\u001b[33;03m\"\"\"\u001b[39;00m\n\u001b[32m    147\u001b[39m \u001b[33;03mCreate the Delta Table from a path with an optional version.\u001b[39;00m\n\u001b[32m    148\u001b[39m \u001b[33;03mMultiple StorageBackends are currently supported: AWS S3, Azure Data Lake Storage Gen2, Google Cloud Storage (GCS) and local URI.\u001b[39;00m\n\u001b[32m   (...)\u001b[39m\u001b[32m    163\u001b[39m \n\u001b[32m    164\u001b[39m \u001b[33;03m\"\"\"\u001b[39;00m\n\u001b[32m    165\u001b[39m \u001b[38;5;28mself\u001b[39m._storage_options = storage_options\n\u001b[32m--> \u001b[39m\u001b[32m166\u001b[39m \u001b[38;5;28mself\u001b[39m._table = \u001b[43mRawDeltaTable\u001b[49m\u001b[43m(\u001b[49m\n\u001b[32m    167\u001b[39m \u001b[43m    \u001b[49m\u001b[38;5;28;43mstr\u001b[39;49m\u001b[43m(\u001b[49m\u001b[43mtable_uri\u001b[49m\u001b[43m)\u001b[49m\u001b[43m,\u001b[49m\n\u001b[32m    168\u001b[39m \u001b[43m    \u001b[49m\u001b[43mversion\u001b[49m\u001b[43m=\u001b[49m\u001b[43mversion\u001b[49m\u001b[43m,\u001b[49m\n\u001b[32m    169\u001b[39m \u001b[43m    \u001b[49m\u001b[43mstorage_options\u001b[49m\u001b[43m=\u001b[49m\u001b[43mstorage_options\u001b[49m\u001b[43m,\u001b[49m\n\u001b[32m    170\u001b[39m \u001b[43m    \u001b[49m\u001b[43mwithout_files\u001b[49m\u001b[43m=\u001b[49m\u001b[43mwithout_files\u001b[49m\u001b[43m,\u001b[49m\n\u001b[32m    171\u001b[39m \u001b[43m    \u001b[49m\u001b[43mlog_buffer_size\u001b[49m\u001b[43m=\u001b[49m\u001b[43mlog_buffer_size\u001b[49m\u001b[43m,\u001b[49m\n\u001b[32m    172\u001b[39m \u001b[43m\u001b[49m\u001b[43m)\u001b[49m\n",
      "\u001b[31mTableNotFoundError\u001b[39m: no log files"
     ]
    }
   ],
   "source": [
    "catalog = pystac_client.Client.open(\n",
    "    \"https://planetarycomputer.microsoft.com/api/stac/v1\",\n",
    "    modifier=planetary_computer.sign_inplace,\n",
    ")\n",
    "collection = catalog.get_collection(\"ms-buildings\")\n",
    "asset = collection.assets[\"delta\"]\n",
    "\n",
    "storage_options = {\n",
    "    \"account_name\": asset.extra_fields[\"table:storage_options\"][\"account_name\"],\n",
    "    \"sas_token\": asset.extra_fields[\"table:storage_options\"][\"credential\"],\n",
    "}\n",
    "table = deltalake.DeltaTable(asset.href, storage_options=storage_options)\n",
    "\n",
    "\n"
   ]
  },
  {
   "cell_type": "code",
   "execution_count": 13,
   "id": "b74fa290",
   "metadata": {},
   "outputs": [
    {
     "ename": "KeyError",
     "evalue": "'geoparquet-items'",
     "output_type": "error",
     "traceback": [
      "\u001b[31m---------------------------------------------------------------------------\u001b[39m",
      "\u001b[31mKeyError\u001b[39m                                  Traceback (most recent call last)",
      "\u001b[36mCell\u001b[39m\u001b[36m \u001b[39m\u001b[32mIn[13]\u001b[39m\u001b[32m, line 16\u001b[39m\n\u001b[32m     13\u001b[39m collection = catalog.get_collection(\u001b[33m\"\u001b[39m\u001b[33mms-buildings\u001b[39m\u001b[33m\"\u001b[39m)\n\u001b[32m     15\u001b[39m \u001b[38;5;66;03m# Now access the GeoParquet asset instead of delta\u001b[39;00m\n\u001b[32m---> \u001b[39m\u001b[32m16\u001b[39m asset = \u001b[43mcollection\u001b[49m\u001b[43m.\u001b[49m\u001b[43massets\u001b[49m\u001b[43m[\u001b[49m\u001b[33;43m\"\u001b[39;49m\u001b[33;43mgeoparquet-items\u001b[39;49m\u001b[33;43m\"\u001b[39;49m\u001b[43m]\u001b[49m  \u001b[38;5;66;03m# Changed from \"delta\" to \"geoparquet-items\"\u001b[39;00m\n\u001b[32m     18\u001b[39m \u001b[38;5;66;03m# Read the data using geopandas or dask_geopandas\u001b[39;00m\n\u001b[32m     19\u001b[39m storage_options = asset.extra_fields[\u001b[33m\"\u001b[39m\u001b[33mtable:storage_options\u001b[39m\u001b[33m\"\u001b[39m]\n",
      "\u001b[31mKeyError\u001b[39m: 'geoparquet-items'"
     ]
    }
   ],
   "source": [
    "import pystac_client\n",
    "import planetary_computer\n",
    "import geopandas as gpd\n",
    "# or import dask_geopandas as dgpd for larger datasets\n",
    "\n",
    "# Connect to the catalog\n",
    "catalog = pystac_client.Client.open(\n",
    "    \"https://planetarycomputer.microsoft.com/api/stac/v1\",\n",
    "    modifier=planetary_computer.sign_inplace,\n",
    ")\n",
    "\n",
    "# Get the collection\n",
    "collection = catalog.get_collection(\"ms-buildings\")\n",
    "\n",
    "# Now access the GeoParquet asset instead of delta\n",
    "asset = collection.assets[\"geoparquet-items\"]  # Changed from \"delta\" to \"geoparquet-items\"\n",
    "\n",
    "# Read the data using geopandas or dask_geopandas\n",
    "storage_options = asset.extra_fields[\"table:storage_options\"]\n",
    "\n",
    "# For smaller regions, use geopandas:\n",
    "df = gpd.read_parquet(asset.href, storage_options=storage_options)\n",
    "\n",
    "# For larger datasets, use dask_geopandas:\n",
    "# import dask_geopandas as dgpd\n",
    "# df = dgpd.read_parquet(asset.href, storage_options=storage_options)"
   ]
  }
 ],
 "metadata": {
  "kernelspec": {
   "display_name": "bedford-ubid",
   "language": "python",
   "name": "python3"
  },
  "language_info": {
   "codemirror_mode": {
    "name": "ipython",
    "version": 3
   },
   "file_extension": ".py",
   "mimetype": "text/x-python",
   "name": "python",
   "nbconvert_exporter": "python",
   "pygments_lexer": "ipython3",
   "version": "3.13.3"
  }
 },
 "nbformat": 4,
 "nbformat_minor": 5
}
