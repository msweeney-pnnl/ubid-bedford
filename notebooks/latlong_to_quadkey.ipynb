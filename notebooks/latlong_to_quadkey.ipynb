{
 "cells": [
  {
   "cell_type": "code",
   "execution_count": 5,
   "id": "8fc5ebb6",
   "metadata": {},
   "outputs": [
    {
     "name": "stdout",
     "output_type": "stream",
     "text": [
      "Quadkeys for Westchester County at level 9:\n",
      "030232332\n",
      "030232333\n",
      "032010110\n",
      "032010111\n",
      "\n",
      "Total quadkeys: 4\n"
     ]
    }
   ],
   "source": [
    "import math\n",
    "\n",
    "\n",
    "def deg2num(lat_deg, lon_deg, zoom):\n",
    "    \"\"\"Convert lat/lon to tile coordinates\"\"\"\n",
    "    lat_rad = math.radians(lat_deg)\n",
    "    n = 2.0 ** zoom\n",
    "    xtile = int((lon_deg + 180.0) / 360.0 * n)\n",
    "    ytile = int((1.0 - math.asinh(math.tan(lat_rad)) / math.pi) / 2.0 * n)\n",
    "    return (xtile, ytile)\n",
    "\n",
    "\n",
    "def tile_to_quadkey(x, y, zoom):\n",
    "    \"\"\"Convert tile coordinates to quadkey\"\"\"\n",
    "    quadkey = \"\"\n",
    "    for i in range(zoom, 0, -1):\n",
    "        digit = 0\n",
    "        mask = 1 << (i - 1)\n",
    "        if (x & mask) != 0:\n",
    "            digit += 1\n",
    "        if (y & mask) != 0:\n",
    "            digit += 2\n",
    "        quadkey += str(digit)\n",
    "    return quadkey\n",
    "\n",
    "\n",
    "def get_quadkeys_for_bbox(north, south, east, west, zoom):\n",
    "    \"\"\"Get all quadkeys that intersect with a bounding box\"\"\"\n",
    "    min_x, max_y = deg2num(south, west, zoom)\n",
    "    max_x, min_y = deg2num(north, east, zoom)\n",
    "\n",
    "    quadkeys = []\n",
    "    for x in range(min_x, max_x + 1):\n",
    "        for y in range(min_y, max_y + 1):\n",
    "            quadkey = tile_to_quadkey(x, y, zoom)\n",
    "            quadkeys.append(quadkey)\n",
    "\n",
    "    return quadkeys\n",
    "\n",
    "# Westchester County approximate bounds\n",
    "# You might want to refine these bounds\n",
    "north = 41.37  # Northern border\n",
    "south = 40.85  # Southern border\n",
    "east = -73.45  # Eastern border\n",
    "west = -73.90  # Western border\n",
    "\n",
    "\n",
    "quadkeys = get_quadkeys_for_bbox(north, south, east, west, 9)\n",
    "print(f\"Quadkeys for Westchester County at level 9:\")\n",
    "for qk in sorted(quadkeys):\n",
    "    print(qk)\n",
    "print(f\"\\nTotal quadkeys: {len(quadkeys)}\")\n",
    "\n",
    "\n"
   ]
  }
 ],
 "metadata": {
  "kernelspec": {
   "display_name": "bedford-ubid",
   "language": "python",
   "name": "python3"
  },
  "language_info": {
   "codemirror_mode": {
    "name": "ipython",
    "version": 3
   },
   "file_extension": ".py",
   "mimetype": "text/x-python",
   "name": "python",
   "nbconvert_exporter": "python",
   "pygments_lexer": "ipython3",
   "version": "3.13.3"
  }
 },
 "nbformat": 4,
 "nbformat_minor": 5
}
