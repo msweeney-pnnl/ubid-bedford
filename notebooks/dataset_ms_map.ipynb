{
 "cells": [
  {
   "cell_type": "code",
   "execution_count": 24,
   "id": "14aff024",
   "metadata": {},
   "outputs": [],
   "source": [
    "# Core data manipulation and analysis\n",
    "import contextily as ctx  # For basemaps\n",
    "from scipy import stats\n",
    "from pathlib import Path\n",
    "import zipfile\n",
    "import os\n",
    "from urllib.parse import urlencode\n",
    "import overpy  # For OpenStreetMap data\n",
    "import json\n",
    "import requests\n",
    "import plotly.graph_objects as go\n",
    "import plotly.express as px\n",
    "from folium import plugins\n",
    "import folium\n",
    "import seaborn as sns\n",
    "import matplotlib.pyplot as plt\n",
    "from pyproj import CRS\n",
    "import pyproj\n",
    "from shapely.geometry import Point, Polygon, box\n",
    "import geopandas as gpd\n",
    "import pandas as pd\n",
    "import numpy as np\n",
    "import warnings\n",
    "from dask.diagnostics import ProgressBar\n",
    "import dask_geopandas\n",
    "import pystac_client\n",
    "import planetary_computer as pc\n",
    "\n",
    "import pickle\n"
   ]
  },
  {
   "cell_type": "code",
   "execution_count": 2,
   "id": "f1075828",
   "metadata": {},
   "outputs": [
    {
     "name": "stderr",
     "output_type": "stream",
     "text": [
      "c:\\code\\bedford-ubid\\.venv\\Lib\\site-packages\\pyogrio\\raw.py:198: RuntimeWarning: ..\\datasets\\Westchester_County_Parcels\\Westchester_Parcels.shp contains polygon(s) with rings with invalid winding order. Autocorrecting them, but that shapefile should be corrected using ogr2ogr for example.\n",
      "  return ogr_read(\n"
     ]
    }
   ],
   "source": [
    "# Define data paths\n",
    "DATA_DIR = Path(\"../datasets\")\n",
    "PARCELS_SHP = DATA_DIR / \"Westchester_County_Parcels\" / \"Westchester_Parcels.shp\"\n",
    "PARCELS_CSV = DATA_DIR / \"Westchester_County_Parcels_3053716610941103405.csv\"\n",
    "\n",
    "# Load the shapefile (preferred for spatial analysis)\n",
    "parcels_gdf = gpd.read_file(PARCELS_SHP)\n",
    "parcels_gdf = parcels_gdf.loc[parcels_gdf.MUNI_NAME == 'Bedford']\n"
   ]
  },
  {
   "cell_type": "code",
   "execution_count": 25,
   "id": "ab810a0e",
   "metadata": {},
   "outputs": [
    {
     "name": "stdout",
     "output_type": "stream",
     "text": [
      "\n",
      "Converting from EPSG:3857 to WGS84...\n",
      "Conversion complete\n"
     ]
    },
    {
     "data": {
      "text/plain": [
       "array([-73.74815136,  41.16565413, -73.59163084,  41.28549615])"
      ]
     },
     "execution_count": 25,
     "metadata": {},
     "output_type": "execute_result"
    }
   ],
   "source": [
    "# Convert to WGS84 for web mapping if needed\n",
    "if parcels_gdf.crs != 'EPSG:4326':\n",
    "    print(f\"\\nConverting from {parcels_gdf.crs} to WGS84...\")\n",
    "    parcels_wgs84 = parcels_gdf.to_crs('EPSG:4326')\n",
    "    print(\"Conversion complete\")\n",
    "else:\n",
    "    parcels_wgs84 = parcels_gdf.copy()\n",
    "\n",
    "bounds = parcels_wgs84.total_bounds  # [minx, miny, maxx, maxy]\n",
    "\n",
    "bounds"
   ]
  },
  {
   "cell_type": "markdown",
   "id": "a91a68c8",
   "metadata": {},
   "source": [
    "### download ms buildings"
   ]
  },
  {
   "cell_type": "code",
   "execution_count": 28,
   "id": "d80386b9",
   "metadata": {},
   "outputs": [
    {
     "name": "stdout",
     "output_type": "stream",
     "text": [
      "Found 2 items for your area\n",
      "Item 0: United States_2022-07-06\n",
      "  Bbox: [-160.221701, 18.921459, -66.950461, 71.360579]\n",
      "  Properties: {'title': 'Building footprints', 'datetime': '2022-07-06T00:00:00Z', 'description': 'Parquet dataset with the building footprints', 'table:columns': [{'name': 'geometry', 'type': 'byte_array', 'description': 'Building footprint polygons'}], 'table:row_count': 129554779, 'msbuildings:region': 'United States'}\n",
      "Item 1: United States_2022-06-14\n",
      "  Bbox: [-160.221701, 18.921459, -66.950461, 71.360579]\n",
      "  Properties: {'title': 'Building footprints', 'datetime': '2022-06-14T00:00:00Z', 'description': 'Parquet dataset with the building footprints', 'table:columns': [{'name': 'geometry', 'type': 'byte_array'}], 'table:row_count': 129557523, 'msbuildings:region': 'United States'}\n"
     ]
    }
   ],
   "source": [
    "\n",
    "# Connect to Planetary Computer STAC API\n",
    "catalog = pystac_client.Client.open(\n",
    "    \"https://planetarycomputer.microsoft.com/api/stac/v1\",\n",
    "    modifier=pc.sign_inplace\n",
    ")\n",
    "\n",
    "\n",
    "# Get signed asset\n",
    "search = catalog.search(\n",
    "    collections=[\"ms-buildings\"], \n",
    "    bbox=bounds, \n",
    "    limit=10\n",
    "    )\n",
    "\n",
    "\n",
    "# Check what items are available\n",
    "items = list(search.items())\n",
    "print(f\"Found {len(items)} items for your area\")\n",
    "\n",
    "for i, item in enumerate(items):\n",
    "    print(f\"Item {i}: {item.id}\")\n",
    "    print(f\"  Bbox: {item.bbox}\")\n",
    "    print(f\"  Properties: {item.properties}\")"
   ]
  },
  {
   "cell_type": "code",
   "execution_count": null,
   "id": "10184cce",
   "metadata": {},
   "outputs": [],
   "source": [
    "\n",
    "# # Connect to Planetary Computer STAC API\n",
    "# catalog = pystac_client.Client.open(\n",
    "#     \"https://planetarycomputer.microsoft.com/api/stac/v1\",\n",
    "#     modifier=pc.sign_inplace\n",
    "# )\n",
    "# # Get signed asset\n",
    "# search = catalog.search(collections=[\"ms-buildings\"], bbox=bounds)\n",
    "# item = next(search.items())\n",
    "# signed_item = pc.sign(item)\n",
    "# asset = signed_item.assets['data']\n",
    "\n",
    "# buildings = dask_geopandas.read_parquet(\n",
    "#     asset.href,\n",
    "#     storage_options=asset.extra_fields[\"table:storage_options\"]\n",
    "# )\n",
    "# with open('../datasets/buildings.pickle', 'wb') as f:\n",
    "#     pickle.dump(buildings, f)"
   ]
  },
  {
   "cell_type": "code",
   "execution_count": 10,
   "id": "d8f57081",
   "metadata": {},
   "outputs": [],
   "source": [
    "\n",
    "# # Load data directly\n",
    "# buildings = dask_geopandas.read_parquet(\n",
    "#     asset.href,\n",
    "#     storage_options=asset.extra_fields[\"table:storage_options\"]\n",
    "# )"
   ]
  },
  {
   "cell_type": "code",
   "execution_count": null,
   "id": "9bed41a7",
   "metadata": {},
   "outputs": [],
   "source": []
  },
  {
   "cell_type": "code",
   "execution_count": null,
   "id": "d780e28a",
   "metadata": {},
   "outputs": [],
   "source": []
  },
  {
   "cell_type": "code",
   "execution_count": null,
   "id": "7591c68e",
   "metadata": {},
   "outputs": [
    {
     "name": "stdout",
     "output_type": "stream",
     "text": [
      "Building data access functions defined successfully!\n"
     ]
    }
   ],
   "source": [
    "with open('../datasets/buildings.pickle', 'wb') as f:\n",
    "    pickle.dump(buildings, f)"
   ]
  }
 ],
 "metadata": {
  "kernelspec": {
   "display_name": "bedford-ubid",
   "language": "python",
   "name": "python3"
  },
  "language_info": {
   "codemirror_mode": {
    "name": "ipython",
    "version": 3
   },
   "file_extension": ".py",
   "mimetype": "text/x-python",
   "name": "python",
   "nbconvert_exporter": "python",
   "pygments_lexer": "ipython3",
   "version": "3.13.3"
  }
 },
 "nbformat": 4,
 "nbformat_minor": 5
}
